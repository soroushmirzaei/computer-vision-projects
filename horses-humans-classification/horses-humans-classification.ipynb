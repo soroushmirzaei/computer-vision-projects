{
  "nbformat": 4,
  "nbformat_minor": 0,
  "metadata": {
    "colab": {
      "name": "horses-humans-classification.ipynb",
      "provenance": [],
      "collapsed_sections": [],
      "mount_file_id": "1mhHAL7iCJw46yWVpx2AbLrdBOG_J9ujf",
      "authorship_tag": "ABX9TyPGxI/WlJbyPIre6XvZexIl",
      "include_colab_link": true
    },
    "kernelspec": {
      "name": "python3",
      "display_name": "Python 3"
    },
    "language_info": {
      "name": "python"
    },
    "accelerator": "GPU",
    "gpuClass": "standard"
  },
  "cells": [
    {
      "cell_type": "markdown",
      "metadata": {
        "id": "view-in-github",
        "colab_type": "text"
      },
      "source": [
        "<a href=\"https://colab.research.google.com/github/soroushmirzaei/computer-vision-projects/blob/main/horses-humans-classification/horses-humans-classification.ipynb\" target=\"_parent\"><img src=\"https://colab.research.google.com/assets/colab-badge.svg\" alt=\"Open In Colab\"/></a>"
      ]
    },
    {
      "cell_type": "code",
      "execution_count": null,
      "metadata": {
        "id": "SIYC55FdPdC2"
      },
      "outputs": [],
      "source": [
        "#import requirements libraries\n",
        "import os\n",
        "import zipfile\n",
        "\n",
        "#import mathematics statics libraries\n",
        "import numpy as np\n",
        "import pandas as pd\n",
        "\n",
        "#import visualization libraries\n",
        "import matplotlib.pyplot as plt\n",
        "import seaborn as sns\n",
        "\n",
        "#import machine learning deep learning libraries\n",
        "import tensorflow as tf\n",
        "from tensorflow import keras\n"
      ]
    },
    {
      "cell_type": "code",
      "source": [
        "#download dataset\n",
        "!curl -o HorseVsHuman.zip \"https://storage.googleapis.com/laurencemoroney-blog.appspot.com/horse-or-human.zip\"\n",
        "!curl -o HorseVsHumanValidation.zip \"https://storage.googleapis.com/laurencemoroney-blog.appspot.com/validation-horse-or-human.zip\"\n"
      ],
      "metadata": {
        "id": "M9Vs57AtxU51",
        "colab": {
          "base_uri": "https://localhost:8080/"
        },
        "outputId": "9ac990af-1eb4-4199-a46a-b49c50ceb582"
      },
      "execution_count": null,
      "outputs": [
        {
          "output_type": "stream",
          "name": "stdout",
          "text": [
            "  % Total    % Received % Xferd  Average Speed   Time    Time     Time  Current\n",
            "                                 Dload  Upload   Total   Spent    Left  Speed\n",
            "100  142M  100  142M    0     0   108M      0  0:00:01  0:00:01 --:--:--  108M\n",
            "  % Total    % Received % Xferd  Average Speed   Time    Time     Time  Current\n",
            "                                 Dload  Upload   Total   Spent    Left  Speed\n",
            "100 10.9M  100 10.9M    0     0  37.6M      0 --:--:-- --:--:-- --:--:-- 37.6M\n"
          ]
        }
      ]
    },
    {
      "cell_type": "code",
      "source": [
        "#unzip files\n",
        "def unzip(src_path):\n",
        "    file = zipfile.ZipFile(src_path)\n",
        "    file.extractall(src_path.split('/')[-1].split('.')[-2])\n",
        "    file.close()\n",
        "\n",
        "unzip('/content/HorseVsHuman.zip')\n",
        "unzip('/content/HorseVsHumanValidation.zip')\n"
      ],
      "metadata": {
        "id": "FklgOYnQS2oE"
      },
      "execution_count": null,
      "outputs": []
    },
    {
      "cell_type": "code",
      "source": [
        "#define files with size zero and remove them\n",
        "for label in os.scandir('/content/HorseVsHuman'):\n",
        "    for image in os.scandir(label.path):\n",
        "        if os.path.getsize(image.path) == 0:\n",
        "            os.remove(image.path)\n",
        "\n",
        "for label in os.scandir('/content/HorseVsHumanValidation'):\n",
        "    for image in os.scandir(label.path):\n",
        "        if os.path.getsize(image.path) == 0:\n",
        "            os.remove(image.path)\n"
      ],
      "metadata": {
        "id": "ThJRSWkpkZ6X"
      },
      "execution_count": null,
      "outputs": []
    },
    {
      "cell_type": "code",
      "source": [
        "#define image data generator and load trainig and validation set\n",
        "Height = 150\n",
        "Width = 150\n",
        "\n",
        "train_gen = keras.preprocessing.image.ImageDataGenerator(rescale = 1/255, horizontal_flip = True,\n",
        "                                                         shear_range = 0.1, rotation_range = 10,\n",
        "                                                         height_shift_range = 0.3, width_shift_range = 0.3,\n",
        "                                                         zoom_range = 0.3, fill_mode = 'nearest')\n",
        "train_data = train_gen.flow_from_directory('/content/HorseVsHuman',\n",
        "                                           target_size = (Height, Width), batch_size = 32,\n",
        "                                           color_mode = 'rgb', class_mode = 'binary', seed = 0)\n",
        "\n",
        "valid_gen = keras.preprocessing.image.ImageDataGenerator(rescale = 1/255)\n",
        "\n",
        "valid_data = valid_gen.flow_from_directory('/content/HorseVsHumanValidation',\n",
        "                                           target_size = (Height, Width), batch_size = 32,\n",
        "                                           color_mode = 'rgb', class_mode = 'binary', seed = 0)\n"
      ],
      "metadata": {
        "id": "BhK-i6rPvglQ",
        "colab": {
          "base_uri": "https://localhost:8080/"
        },
        "outputId": "76dd3b4d-bcad-4363-a5e8-8794685e0fba"
      },
      "execution_count": null,
      "outputs": [
        {
          "output_type": "stream",
          "name": "stdout",
          "text": [
            "Found 1027 images belonging to 2 classes.\n",
            "Found 256 images belonging to 2 classes.\n"
          ]
        }
      ]
    },
    {
      "cell_type": "code",
      "source": [
        "#load pretrained model\n",
        "pretrained_model = keras.applications.ResNet50V2(include_top = False, input_shape = (Height, Width, 3))\n",
        "\n",
        "#define layers trainable false\n",
        "for layer in pretrained_model.layers:\n",
        "    layer.trainable = False\n"
      ],
      "metadata": {
        "id": "6zj2AbAfiMzH"
      },
      "execution_count": null,
      "outputs": []
    },
    {
      "cell_type": "code",
      "source": [
        "#define an definite out layer\n",
        "out_layer = pretrained_model.get_layer('post_relu')\n"
      ],
      "metadata": {
        "id": "u-VN5XoeADsJ"
      },
      "execution_count": null,
      "outputs": []
    },
    {
      "cell_type": "code",
      "source": [
        "#create model function\n",
        "def create_model(inp_shape, dense_layers_num, dense_drop_ratio, dense_units,\n",
        "                 out_drop_ratio, out_units, out_activation, compile_optimizer, compile_loss , compile_metric,\n",
        "                 #model layers configuration\n",
        "                 dense_activation = 'relu', dense_head = True, batch_norm_dense = True, batch_norm_out = True,\n",
        "                 drop_dense = True, drop_out = True):\n",
        "\n",
        "    #convert two dims to one dim\n",
        "    out = keras.layers.Flatten()(out_layer.output)\n",
        "\n",
        "    #define dense layers\n",
        "    if dense_head:\n",
        "        for i in range(dense_layers_num):\n",
        "            if batch_norm_dense:\n",
        "                out = keras.layers.BatchNormalization()(out)\n",
        "            out = keras.layers.Dense(units = dense_units[i], activation = dense_activation,\n",
        "                                     kernel_initializer = keras.initializers.HeNormal())(out)\n",
        "            if drop_dense:\n",
        "                out = keras.layers.Dropout(dense_drop_ratio[i])(out)\n",
        "\n",
        "    #define output layers\n",
        "    if batch_norm_out:\n",
        "        out = keras.layers.Dropout(out_drop_ratio)(out)\n",
        "    if drop_out:\n",
        "        out = keras.layers.BatchNormalization()(out)\n",
        "    output = keras.layers.Dense(units = out_units, activation = out_activation)(out)\n",
        "\n",
        "    model = keras.models.Model(pretrained_model.input, output)\n",
        "\n",
        "    #define model compile\n",
        "    model.compile(optimizer = compile_optimizer,\n",
        "                  loss = compile_loss,\n",
        "                  metrics = compile_metric)\n",
        "\n",
        "    return model\n"
      ],
      "metadata": {
        "id": "_xnYj4neVWVN"
      },
      "execution_count": null,
      "outputs": []
    },
    {
      "cell_type": "code",
      "source": [
        "#define custom callbacks\n",
        "class callback(keras.callbacks.Callback):\n",
        "    def on_epoch_end(self, epoch, logs = None):\n",
        "        self.model.save('/content/horses-humans-model.h5')\n",
        "        "
      ],
      "metadata": {
        "id": "AbKkF-OEvHwR"
      },
      "execution_count": null,
      "outputs": []
    },
    {
      "cell_type": "code",
      "source": [
        "#create model\n",
        "model = create_model(inp_shape = (Height,Height,3), dense_layers_num = 2, dense_drop_ratio = [0.2, 0.2] , dense_units = [64, 64],\n",
        "                     out_drop_ratio = 0.3, out_units = 1,\n",
        "                     out_activation = 'sigmoid', compile_optimizer = 'adam', compile_loss ='binary_crossentropy' ,\n",
        "                     compile_metric = ['binary_accuracy'], dense_activation = 'relu', dense_head = True,\n",
        "                     batch_norm_dense = True, batch_norm_out = True, drop_dense = True, drop_out = True)\n"
      ],
      "metadata": {
        "id": "Tu-f1qv2hBtD"
      },
      "execution_count": null,
      "outputs": []
    },
    {
      "cell_type": "code",
      "source": [
        "#fit model for training\n",
        "model.fit(train_data, validation_data = valid_data, epochs = 100, verbose = 0,\n",
        "          callbacks = [keras.callbacks.EarlyStopping(patience = 20, restore_best_weights = True, monitor = 'val_loss'),\n",
        "                       keras.callbacks.CSVLogger('Log.csv'), callback()])\n"
      ],
      "metadata": {
        "id": "J3IZZX3i-6VC"
      },
      "execution_count": null,
      "outputs": []
    },
    {
      "cell_type": "code",
      "source": [
        "#plot history\n",
        "pd.read_csv('/content/Log.csv').drop('epoch', axis = 1).plot(figsize = (9, 6), linewidth = 3)\n",
        "plt.grid(linestyle = '--', linewidth = 2); plt.ylim(0,1); plt.show()\n"
      ],
      "metadata": {
        "id": "15x7dLePYEHJ",
        "colab": {
          "base_uri": "https://localhost:8080/",
          "height": 378
        },
        "outputId": "af03ab5b-7572-42be-808a-624a2388884b"
      },
      "execution_count": null,
      "outputs": [
        {
          "output_type": "display_data",
          "data": {
            "text/plain": [
              "<Figure size 648x432 with 1 Axes>"
            ],
            "image/png": "[encoded data removed]"
          },
          "metadata": {
            "needs_background": "light"
          }
        }
      ]
    },
    {
      "cell_type": "code",
      "source": [
        "#make list of all images in directory\n",
        "ls = []\n",
        "for label in os.scandir('/content/HorseVsHumanValidation'):\n",
        "    for image in os.scandir(label.path):\n",
        "        ls.append(image.path)\n"
      ],
      "metadata": {
        "id": "SWQ46_Lu74Xw"
      },
      "execution_count": null,
      "outputs": []
    },
    {
      "cell_type": "code",
      "source": [
        "#select randomly an image and draw it\n",
        "img = np.random.choice(ls)\n",
        "image = img\n",
        "img = keras.preprocessing.image.load_img(img, target_size = (Height, Width), color_mode = 'rgb')\n",
        "img = keras.preprocessing.image.img_to_array(img)\n",
        "img = img/255\n",
        "\n",
        "plt.axis('off')\n",
        "plt.imshow(img)\n",
        "plt.title(image.split('/')[-1])\n",
        "plt.show()\n"
      ],
      "metadata": {
        "id": "aXb7VGJVfIJ6",
        "colab": {
          "base_uri": "https://localhost:8080/",
          "height": 264
        },
        "outputId": "3b3f6ad3-56f1-41e6-cf4b-aad9000c1841"
      },
      "execution_count": null,
      "outputs": [
        {
          "output_type": "display_data",
          "data": {
            "text/plain": [
              "<Figure size 432x288 with 1 Axes>"
            ],
            "image/png": "[encoded data removed]"
          },
          "metadata": {
            "needs_background": "light"
          }
        }
      ]
    },
    {
      "cell_type": "code",
      "source": [
        "#predict the image\n",
        "img = np.expand_dims(img, 0)\n",
        "print(train_data.class_indices)\n",
        "print(model.predict(img))\n"
      ],
      "metadata": {
        "id": "X2mJRnfsqQzq",
        "outputId": "fbdfd002-e414-465d-bf71-b397e0ad4ffd",
        "colab": {
          "base_uri": "https://localhost:8080/"
        }
      },
      "execution_count": null,
      "outputs": [
        {
          "output_type": "stream",
          "name": "stdout",
          "text": [
            "{'horses': 0, 'humans': 1}\n",
            "[[5.958902e-05]]\n"
          ]
        }
      ]
    },
    {
      "cell_type": "code",
      "source": [
        "#save model\n",
        "model.save('/content/horses-humans-classification-model.h5')\n"
      ],
      "metadata": {
        "id": "oAKshaT7yrky"
      },
      "execution_count": null,
      "outputs": []
    }
  ]
}
